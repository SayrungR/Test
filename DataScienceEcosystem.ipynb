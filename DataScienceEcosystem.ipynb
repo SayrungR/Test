{
 "cells": [
  {
   "cell_type": "markdown",
   "id": "a89f44a4-5573-4c24-b8cc-538f98f7f67c",
   "metadata": {},
   "source": [
    "# Data Science Tools and Ecosystem"
   ]
  },
  {
   "cell_type": "markdown",
   "id": "e2732602-97df-46bb-9d7f-bc443daf05d4",
   "metadata": {},
   "source": [
    "In this notebook, Data Science Tools and Ecosystem are summarized."
   ]
  },
  {
   "cell_type": "markdown",
   "id": "711c72f8-078f-4aa5-ab4e-831a6e1177c1",
   "metadata": {
    "tags": []
   },
   "source": [
    "**Objectives:**\n",
    "- List of the popular languages that Data Scientists use\n",
    "- List of commonly used libraries used by Data Scientists\n",
    "- Table of Data Science Tools"
   ]
  },
  {
   "cell_type": "markdown",
   "id": "2c471b78-7955-4013-a890-86d73b3025a6",
   "metadata": {},
   "source": [
    "Some of the popular languages that Data Scientists use are:"
   ]
  },
  {
   "cell_type": "markdown",
   "id": "f47143bc-8d1c-4eec-99ef-995b61b3c6fd",
   "metadata": {
    "tags": []
   },
   "source": [
    "1. Python\n",
    "2. R\n",
    "3. SQL"
   ]
  },
  {
   "cell_type": "markdown",
   "id": "ebb1ac51-4f61-4b0c-a163-92b253bacf0d",
   "metadata": {},
   "source": [
    "Some of the commonly used libraries used by Data Scientists include:"
   ]
  },
  {
   "cell_type": "markdown",
   "id": "a92762ed-2849-44de-af9d-b87db3f752dc",
   "metadata": {
    "tags": []
   },
   "source": [
    "1. NumPy\n",
    "2. Matplotlib\n",
    "3. Pandas"
   ]
  },
  {
   "cell_type": "markdown",
   "id": "2926be4a-922a-4fb8-a290-329c285f232d",
   "metadata": {},
   "source": [
    "| Data Science Tools |\n",
    "| ------------------ |\n",
    "| MySQL |\n",
    "| Apache Hadoop |\n",
    "| Apache Airflow |"
   ]
  },
  {
   "cell_type": "markdown",
   "id": "9a242ce1-b9fd-44f2-b231-0fb2225ce35f",
   "metadata": {},
   "source": [
    "### Below are a few examples of evaluating arithmetic expressions in Python"
   ]
  },
  {
   "cell_type": "code",
   "execution_count": 5,
   "id": "9782306f-4bd0-490a-96b9-704614cd8ce8",
   "metadata": {
    "tags": []
   },
   "outputs": [
    {
     "data": {
      "text/plain": [
       "17"
      ]
     },
     "execution_count": 5,
     "metadata": {},
     "output_type": "execute_result"
    }
   ],
   "source": [
    "#This a simple arithmetic expression to mutiply then add integers\n",
    "(3*4)+5 "
   ]
  },
  {
   "cell_type": "code",
   "execution_count": 7,
   "id": "b0b198b9-a9fa-40cc-a28c-26566e400a39",
   "metadata": {
    "tags": []
   },
   "outputs": [
    {
     "data": {
      "text/plain": [
       "3.3333333333333335"
      ]
     },
     "execution_count": 7,
     "metadata": {},
     "output_type": "execute_result"
    }
   ],
   "source": [
    "#This will convert 200 minutes to hours by diving by 60\n",
    "200/60"
   ]
  },
  {
   "cell_type": "markdown",
   "id": "3f3beac3-c695-4259-a7d4-2e501702a9e5",
   "metadata": {},
   "source": [
    "## Author\n",
    "Sayrung Rungsaphrom"
   ]
  },
  {
   "cell_type": "code",
   "execution_count": null,
   "id": "b058480c-9a31-4eba-9dbd-65310701442e",
   "metadata": {},
   "outputs": [],
   "source": []
  }
 ],
 "metadata": {
  "kernelspec": {
   "display_name": "Python",
   "language": "python",
   "name": "conda-env-python-py"
  },
  "language_info": {
   "codemirror_mode": {
    "name": "ipython",
    "version": 3
   },
   "file_extension": ".py",
   "mimetype": "text/x-python",
   "name": "python",
   "nbconvert_exporter": "python",
   "pygments_lexer": "ipython3",
   "version": "3.7.12"
  }
 },
 "nbformat": 4,
 "nbformat_minor": 5
}
